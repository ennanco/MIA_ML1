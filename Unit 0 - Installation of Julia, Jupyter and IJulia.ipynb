{
 "cells": [
  {
   "cell_type": "markdown",
   "id": "95075a83",
   "metadata": {},
   "source": [
    "# Introduction to Julia Language\n",
    "\n",
    "For the implementation of the practice exercises, there are several options in terms of programming language.  Among the many available options, we will consider the following three languages:\n",
    "\n",
    "* **Matlab** is a scientific programming language with many years of development. It has the advantage of offering a large number of modules (called Toolboxes) for almost any scientific or technical task, along with excellent documentation. This makes it a suitable language for beginners. However, its main disadvantage is that it requires a paid license, which limits its use in many companies. As a result, it is less commonly used than Python in industry.\n",
    "\n",
    "* **Python** is undoubtedly the most widely used language in data science and machine learning. It is modern and simple, with a vast ecosystem of modules and extensive documentation. Although it doesn't quite match Matlab in terms of scientific features or numerical performance, it is free, open-source, and general-purpose. Notably, key deep learning libraries like TensorFlow and PyTorch were first developed for Python, significantly expanding its community. Other machine learning tools, such as Scikit-learn, also make it a strong option. However, since it is not a scientific language by design, numerical efficiency depends on libraries like NumPy, which introduces performance limitations compared to natively vectorized languages.\"\n",
    "\n",
    "* **Julia** is a relatively new scientific programming language developed at MIT. Although its first stable release is only a few years old, it is rapidly evolving. Julia aims to combine the scientific strengths of Matlab with the simplicity and openness of Python, while providing better performance than both. Despite its youth, the number of available packages is growing quickly. However, its community and industry adoption are still smaller compared to Python and Matlab\n",
    "\n",
    "As has been indicated, it is a language that does not yet have a large presence at the enterprise level, however, this is mitigated by three important factors:\n",
    "\n",
    "* Having acquired Python language skills in other subjects, this subject provides an opportunity to learn a scientific language that completes the knowledge.\n",
    "\n",
    "* Several prestigious institutions, such as Berkeley, Stanford, and MIT, recommend and teach Julia due to its fine-grained performance control and suitability for research and experimentation..\n",
    "\n",
    "* Although Python is the most widely used language at the enterprise level, the Scikit-Learn library is also available in Julia.  Learning Julia in this course also strengthens understanding of libraries like Scikit-learn, which are available in both Julia and Python, enabling students to apply their knowledge seamlessly across both languages.\n",
    "\n",
    "## Installation\n",
    "\n",
    "Julia installation is pretty straightforward, whether using precompiled binaries or compiling from source. Download and install Julia by following the instructions at [https://julialang.org/downloads/].\n",
    "\n",
    "> ⚠️ **Older Mac users**: Installing Julia might be troublesome due to deprecated compilers. In case of errors during installation, it might be worth trying to install it via [MacPorts](https://ports.macports.org/port/julia/). After MacPorts [installation](https://www.macports.org/install.php/), Julia can be installed just by `sudo port install julia`.\n",
    "\n",
    "It could be worth to also install jupyter in a local environment to perform some test. This can be done by executing the following command, if you do not have it already installed."
   ]
  },
  {
   "cell_type": "markdown",
   "id": "6a128941",
   "metadata": {},
   "source": [
    "To be executed if needed on the terminal, previous to execute any code here:\n",
    "```bash\n",
    "        pip install notebook\n",
    "```"
   ]
  },
  {
   "cell_type": "markdown",
   "id": "80d0c277",
   "metadata": {},
   "source": [
    "After that installation you can proceed to install the kernel of Julia for jupyter notebook. Simply open a terminal and type `julia`. You should see the following environment \n",
    "\n",
    "![Image of the startup of Julia in the terminal](./img/JuliaTerminal.png \"Julia Terminal\")"
   ]
  },
  {
   "cell_type": "markdown",
   "id": "382e7e24",
   "metadata": {},
   "source": [
    "To add the support for notebooks to should execute the following lines, which we would cover more indeed on the following lines"
   ]
  },
  {
   "cell_type": "markdown",
   "id": "0b1734c0",
   "metadata": {},
   "source": [
    "```julia\n",
    "    using Pkg\n",
    "    Pkg.add(\"IJulia\")\n",
    "    \n",
    "```"
   ]
  },
  {
   "cell_type": "markdown",
   "id": "8f1cb903",
   "metadata": {},
   "source": [
    "This lines load the `Pkg` package, which is used to manage packages in Julia. Here, we are adding the `IJulia` package. Once installed, you can run Julia code inside Jupyter notebooks. The next step is to start Jupyter by executing: \n",
    "```bash\n",
    "    jupyter notebook\n",
    "```\n",
    "Then, you can access the provided URL in your browser to create new notebooks in both Python and Julia.\n",
    "\n",
    "Alternatively, you can launch the notebook interface directly from the Julia REPL with:\n",
    "\n",
    "```julia\n",
    "    using IJulia\n",
    "    notebook()\n",
    "```"
   ]
  },
  {
   "cell_type": "markdown",
   "id": "4aef521a-a399-4f7f-94a6-8911587cd3dc",
   "metadata": {},
   "source": [
    "In this subject, various Julia packages will be used. Some of them, such as Statistics, are included in the standard distribution and can be used directly with:"
   ]
  },
  {
   "cell_type": "code",
   "execution_count": 1,
   "id": "1a2b2cec-92c2-4d73-86d4-38a201878769",
   "metadata": {},
   "outputs": [],
   "source": [
    "using Statistics"
   ]
  },
  {
   "cell_type": "markdown",
   "id": "ed686674-1511-484f-a448-b1ddb5ccff8e",
   "metadata": {},
   "source": [
    "If you only need specific functions from a package, you can import them selectively:"
   ]
  },
  {
   "cell_type": "code",
   "execution_count": 2,
   "id": "47d4efad-eb2b-4b63-83f8-930556ba0882",
   "metadata": {},
   "outputs": [],
   "source": [
    "using Statistics: mean"
   ]
  },
  {
   "cell_type": "markdown",
   "id": "64ff5c91-acef-4d27-82ce-eee22f928cd3",
   "metadata": {},
   "source": [
    "Other packages are not included by default and must be installed manually. Below are some of the packages we will be using:: \n",
    "\n",
    "* FileIO: General interface for file input/output operations. \n",
    "* XLSX: Enables reading data from Excel files. \n",
    "* JLD2: Allows saving and loading Julia variables to/from file (depends on FileIO). \n",
    "* Flux: Provides tools for training Artificial Neural Networks in Julia.\n",
    "* MLJ: Julia implementation of machine most renoun machine learning techniques\n",
    "* ScikitLearn: Julia implementation of the popular Python machine learning library, offering a consistent interface for models and utilities. \n",
    "* Plots: General plotting library in Julia. \n",
    "* MAT: Enables reading MATLAB `.mat` files. \n",
    "* Images: Provides tools for image processing and manipulation. \n",
    "\n",
    "The first time they are used, they are pre-compiled. For example, if your data is stored in an Excel file, you can use the `readdata` function from the XLSX package to load it. "
   ]
  },
  {
   "cell_type": "code",
   "execution_count": 3,
   "id": "2cc17900",
   "metadata": {},
   "outputs": [
    {
     "name": "stderr",
     "output_type": "stream",
     "text": [
      "\u001b[32m\u001b[1m   Resolving\u001b[22m\u001b[39m package versions...\n",
      "\u001b[32m\u001b[1m  No Changes\u001b[22m\u001b[39m to `/opt/julia/environments/v1.9/Project.toml`\n",
      "\u001b[32m\u001b[1m  No Changes\u001b[22m\u001b[39m to `/opt/julia/environments/v1.9/Manifest.toml`\n"
     ]
    }
   ],
   "source": [
    "import Pkg; Pkg.add(\"XLSX\");"
   ]
  },
  {
   "cell_type": "code",
   "execution_count": 4,
   "id": "3e6307ff",
   "metadata": {},
   "outputs": [],
   "source": [
    "using XLSX:readdata"
   ]
  },
  {
   "cell_type": "markdown",
   "id": "976c11b4",
   "metadata": {},
   "source": [
    "## Basic syntax in Julia\n",
    "This section presents some typical operations with two main objectives: first, to serve as a quick reference or cheatsheet; and second, to verify that the previous setup was successful. Many of the examples are based on this [tutorial](https://learnxinyminutes.com/docs/julia/) that can be used as additional reference. "
   ]
  },
  {
   "cell_type": "markdown",
   "id": "2c6078ba",
   "metadata": {},
   "source": [
    "### Types of numbers\n",
    "In Julia, there are several types of numbers. Although during the first practice we will indeep in this question. Here are some examples of different definitions"
   ]
  },
  {
   "cell_type": "code",
   "execution_count": 5,
   "id": "68093cf0",
   "metadata": {},
   "outputs": [
    {
     "data": {
      "text/plain": [
       "Int64"
      ]
     },
     "execution_count": 5,
     "metadata": {},
     "output_type": "execute_result"
    }
   ],
   "source": [
    "typeof(2)"
   ]
  },
  {
   "cell_type": "code",
   "execution_count": 6,
   "id": "d769e217",
   "metadata": {},
   "outputs": [
    {
     "data": {
      "text/plain": [
       "Float64"
      ]
     },
     "execution_count": 6,
     "metadata": {},
     "output_type": "execute_result"
    }
   ],
   "source": [
    "typeof(4.0)"
   ]
  },
  {
   "cell_type": "code",
   "execution_count": null,
   "id": "40b08f5c",
   "metadata": {},
   "outputs": [],
   "source": [
    "typeof(1 + 1im)"
   ]
  },
  {
   "cell_type": "code",
   "execution_count": null,
   "id": "4491f1cc",
   "metadata": {},
   "outputs": [],
   "source": [
    "typeof(2 // 3)"
   ]
  },
  {
   "cell_type": "code",
   "execution_count": null,
   "id": "983129fd",
   "metadata": {},
   "outputs": [],
   "source": [
    "supertype(AbstractFloat)"
   ]
  },
  {
   "cell_type": "code",
   "execution_count": null,
   "id": "b1e4f8b4",
   "metadata": {},
   "outputs": [],
   "source": [
    "supertype(Real)"
   ]
  },
  {
   "cell_type": "code",
   "execution_count": null,
   "id": "b0d551e5",
   "metadata": {},
   "outputs": [],
   "source": [
    "supertype(Number)"
   ]
  },
  {
   "cell_type": "markdown",
   "id": "54e63c0e",
   "metadata": {},
   "source": [
    "### Boolean Operators\n",
    "Be aware that the negation is performed with `!`"
   ]
  },
  {
   "cell_type": "code",
   "execution_count": null,
   "id": "13126cf7",
   "metadata": {},
   "outputs": [],
   "source": [
    "(1==1) & !(1!=1)"
   ]
  },
  {
   "cell_type": "markdown",
   "id": "e2522965",
   "metadata": {},
   "source": [
    "### Strings"
   ]
  },
  {
   "cell_type": "code",
   "execution_count": null,
   "id": "3ef84612",
   "metadata": {},
   "outputs": [],
   "source": [
    "typeof(\"This is a string\")"
   ]
  },
  {
   "cell_type": "code",
   "execution_count": null,
   "id": "25b37cec",
   "metadata": {},
   "outputs": [],
   "source": [
    "typeof('a') != typeof(\"a\") # the single quote is only for caracters"
   ]
  },
  {
   "cell_type": "code",
   "execution_count": null,
   "id": "89053a44",
   "metadata": {},
   "outputs": [],
   "source": [
    "using Printf\n",
    "Printf.@printf \"%d is less than %f\" 4.5 5.3"
   ]
  },
  {
   "cell_type": "code",
   "execution_count": null,
   "id": "6d42148c",
   "metadata": {},
   "outputs": [],
   "source": [
    "println(\"This is in Julia - $(VERSION)\")"
   ]
  },
  {
   "cell_type": "markdown",
   "id": "1fbd1e70",
   "metadata": {},
   "source": [
    "### Variable\n",
    "The variable names has to start with a letter, but after that you can use letters, digits, underscores, and exclamation points"
   ]
  },
  {
   "cell_type": "code",
   "execution_count": null,
   "id": "43259794",
   "metadata": {},
   "outputs": [],
   "source": [
    "xMarksTheSpot2Dig! = 1"
   ]
  },
  {
   "cell_type": "code",
   "execution_count": null,
   "id": "ef9fb8ac",
   "metadata": {},
   "outputs": [],
   "source": [
    "a = Int64[]"
   ]
  },
  {
   "cell_type": "code",
   "execution_count": null,
   "id": "a089bcd9",
   "metadata": {},
   "outputs": [],
   "source": [
    "push!(a, 1)"
   ]
  },
  {
   "cell_type": "code",
   "execution_count": null,
   "id": "c9c3ef0b",
   "metadata": {},
   "outputs": [],
   "source": [
    "push!(a, 2)"
   ]
  },
  {
   "cell_type": "code",
   "execution_count": null,
   "id": "16688242",
   "metadata": {
    "scrolled": true
   },
   "outputs": [],
   "source": [
    "b = [3, 4, 5]"
   ]
  },
  {
   "cell_type": "code",
   "execution_count": null,
   "id": "732d012c",
   "metadata": {},
   "outputs": [],
   "source": [
    "b[1]"
   ]
  },
  {
   "cell_type": "code",
   "execution_count": null,
   "id": "2a05c39d",
   "metadata": {},
   "outputs": [],
   "source": [
    "b[end]"
   ]
  },
  {
   "cell_type": "code",
   "execution_count": null,
   "id": "ecc49a0c",
   "metadata": {},
   "outputs": [],
   "source": [
    "append!(a, b)"
   ]
  },
  {
   "cell_type": "code",
   "execution_count": null,
   "id": "8bb1f306",
   "metadata": {},
   "outputs": [],
   "source": [
    "pop!(a)"
   ]
  },
  {
   "cell_type": "code",
   "execution_count": null,
   "id": "353b6c94",
   "metadata": {},
   "outputs": [],
   "source": [
    "a[2:3]"
   ]
  },
  {
   "cell_type": "code",
   "execution_count": null,
   "id": "ca4a26aa",
   "metadata": {},
   "outputs": [],
   "source": [
    "4 in a"
   ]
  },
  {
   "cell_type": "code",
   "execution_count": null,
   "id": "7ac03623",
   "metadata": {
    "scrolled": true
   },
   "outputs": [],
   "source": [
    "length(a)"
   ]
  },
  {
   "cell_type": "markdown",
   "id": "2a78acf8",
   "metadata": {},
   "source": [
    "### Tuples"
   ]
  },
  {
   "cell_type": "code",
   "execution_count": null,
   "id": "39028956",
   "metadata": {},
   "outputs": [],
   "source": [
    "a = (1, 5, 3)\n",
    "typeof(a)"
   ]
  },
  {
   "cell_type": "code",
   "execution_count": null,
   "id": "ce029a9f",
   "metadata": {},
   "outputs": [],
   "source": [
    "a[2]"
   ]
  },
  {
   "cell_type": "code",
   "execution_count": null,
   "id": "fddebdd4",
   "metadata": {},
   "outputs": [],
   "source": [
    "a, b, c = (1, 2, 3)"
   ]
  },
  {
   "cell_type": "code",
   "execution_count": null,
   "id": "a863b29d",
   "metadata": {},
   "outputs": [],
   "source": [
    "println(\" First element is $(a), Second is $(b), and last is $(c)\")"
   ]
  },
  {
   "cell_type": "code",
   "execution_count": null,
   "id": "0cc16427",
   "metadata": {},
   "outputs": [],
   "source": [
    "n = (x=1, y=2, z=3) # use keyword assignments in a tuple to create a NamedTuple"
   ]
  },
  {
   "cell_type": "code",
   "execution_count": null,
   "id": "17033d10",
   "metadata": {},
   "outputs": [],
   "source": [
    "println(\" First element is $(n.x), Second is $(n.y), and last is $(n.z)\")"
   ]
  },
  {
   "cell_type": "markdown",
   "id": "3911ecd2",
   "metadata": {},
   "source": [
    "### Dictionaries"
   ]
  },
  {
   "cell_type": "code",
   "execution_count": null,
   "id": "7ee24c7b",
   "metadata": {},
   "outputs": [],
   "source": [
    "d = Dict(\"one\"=>1, \"two\"=>2, \"three\"=>3)"
   ]
  },
  {
   "cell_type": "code",
   "execution_count": null,
   "id": "d2c68e4c",
   "metadata": {},
   "outputs": [],
   "source": [
    "d[\"one\"]"
   ]
  },
  {
   "cell_type": "code",
   "execution_count": null,
   "id": "e0392a5e",
   "metadata": {},
   "outputs": [],
   "source": [
    "keys(d)"
   ]
  },
  {
   "cell_type": "code",
   "execution_count": null,
   "id": "9bcb33f3",
   "metadata": {},
   "outputs": [],
   "source": [
    "values(d)"
   ]
  },
  {
   "cell_type": "code",
   "execution_count": null,
   "id": "63dd185d",
   "metadata": {},
   "outputs": [],
   "source": [
    "haskey(d, \"one\")"
   ]
  },
  {
   "cell_type": "markdown",
   "id": "60e4a1cd",
   "metadata": {},
   "source": [
    "### Control Flow"
   ]
  },
  {
   "cell_type": "code",
   "execution_count": null,
   "id": "ba39b69a",
   "metadata": {},
   "outputs": [],
   "source": [
    "condition_var = 5\n",
    "\n",
    "# if-then=else\n",
    "# Indentation is not meaningful in Julia.\n",
    "\n",
    "if condition_var > 10\n",
    "    println(\"If branch is mandatory\")\n",
    "elseif condition_var < 10    \n",
    "    println(\"Elseif branch is optional\")\n",
    "else                    \n",
    "    println(\"The else branch os also optional\")\n",
    "end"
   ]
  },
  {
   "cell_type": "code",
   "execution_count": null,
   "id": "0076c494",
   "metadata": {},
   "outputs": [],
   "source": [
    "# The for loop can work on iterables\n",
    "for animal in [\"dog\", \"cat\", \"mouse\"]\n",
    "    println(\"$animal is a mammal\")\n",
    "    # You can use $ to interpolate variables or expression into strings\n",
    "end"
   ]
  },
  {
   "cell_type": "code",
   "execution_count": null,
   "id": "1bd23712",
   "metadata": {},
   "outputs": [],
   "source": [
    "for (k,v) in Dict(\"dog\"=>\"mammal\",\"cat\"=>\"mammal\",\"mouse\"=>\"mammal\")\n",
    "    println(\"$k is a $v\")\n",
    "end"
   ]
  },
  {
   "cell_type": "code",
   "execution_count": null,
   "id": "643fc957",
   "metadata": {},
   "outputs": [],
   "source": [
    "# The while loop\n",
    "x = 0\n",
    "while x < 4\n",
    "    global x # be aware that the variable which is changed is the global one\n",
    "    println(x)\n",
    "    x += 1  # Shorthand for x = x + 1\n",
    "end"
   ]
  },
  {
   "cell_type": "markdown",
   "id": "d1b96491",
   "metadata": {},
   "source": [
    "### Functions"
   ]
  },
  {
   "cell_type": "code",
   "execution_count": null,
   "id": "69b0e334",
   "metadata": {},
   "outputs": [],
   "source": [
    "# You can define a function with or without defatult values\n",
    "function defaults(a, b, x=5, y=6)\n",
    "    return \"$a $b and $x $y\"\n",
    "end"
   ]
  },
  {
   "cell_type": "code",
   "execution_count": null,
   "id": "505aff0f",
   "metadata": {},
   "outputs": [],
   "source": [
    "defaults('h', 'g', 'j')  # => \"h g and j 6\""
   ]
  },
  {
   "cell_type": "code",
   "execution_count": null,
   "id": "8b7c615e",
   "metadata": {},
   "outputs": [],
   "source": [
    "try\n",
    "    defaults('h')  # => ERROR: MethodError: no method matching defaults(::Char)\n",
    "catch e\n",
    "    println(e)\n",
    "end"
   ]
  },
  {
   "cell_type": "code",
   "execution_count": null,
   "id": "653d6b28",
   "metadata": {},
   "outputs": [],
   "source": [
    "function all_the_args(normalArg, optionalPositionalArg=2; keywordArg=\"foo\")\n",
    "    println(\"normal arg: $normalArg\")\n",
    "    println(\"optional arg: $optionalPositionalArg\")\n",
    "    println(\"keyword arg: $keywordArg\")\n",
    "end\n",
    "\n",
    "all_the_args(\"normal\")"
   ]
  },
  {
   "cell_type": "code",
   "execution_count": null,
   "id": "551abb9c",
   "metadata": {},
   "outputs": [],
   "source": [
    "# Lambda expressions\n",
    "(x -> x+1)(3)"
   ]
  },
  {
   "cell_type": "code",
   "execution_count": null,
   "id": "ac40f9d3",
   "metadata": {},
   "outputs": [],
   "source": [
    "# Julia has first class functions\n",
    "function create_adder(x)\n",
    "    adder = function (y)\n",
    "        return x + y\n",
    "    end\n",
    "    return adder\n",
    "end"
   ]
  },
  {
   "cell_type": "code",
   "execution_count": null,
   "id": "9b9efe20",
   "metadata": {},
   "outputs": [],
   "source": [
    "# This function is identical to create_adder implementation above.\n",
    "function create_adder(x)\n",
    "    y -> x + y\n",
    "end"
   ]
  },
  {
   "cell_type": "code",
   "execution_count": null,
   "id": "6ce5b189",
   "metadata": {},
   "outputs": [],
   "source": [
    "# You can also name the internal function, if you want\n",
    "function create_adder(x)\n",
    "    function adder(y)\n",
    "        x + y\n",
    "    end\n",
    "    adder\n",
    "end"
   ]
  },
  {
   "cell_type": "code",
   "execution_count": null,
   "id": "e230520e",
   "metadata": {},
   "outputs": [],
   "source": [
    "f = create_adder(10)\n",
    "map(f, [1,2,3])"
   ]
  },
  {
   "cell_type": "code",
   "execution_count": null,
   "id": "63030e98",
   "metadata": {},
   "outputs": [],
   "source": [
    "filter(x -> x > 5, [3, 4, 5, 6, 7])"
   ]
  },
  {
   "cell_type": "code",
   "execution_count": null,
   "id": "d2183d64",
   "metadata": {},
   "outputs": [],
   "source": [
    "[f(i) for i in [1, 2, 3]]"
   ]
  },
  {
   "cell_type": "markdown",
   "id": "8f10172b",
   "metadata": {},
   "source": [
    "### Composite Types\n",
    "Julia allows you to define new composite types (similar to structs or classes in other languages). These types can be part of a hierarchy, enabling method inheritance and supporting multiple dispatch. "
   ]
  },
  {
   "cell_type": "code",
   "execution_count": null,
   "id": "f0e7c9ec",
   "metadata": {},
   "outputs": [],
   "source": [
    "abstract type Cat end # just a name and point in the type hierarchy\n",
    "subtypes(Cat)"
   ]
  },
  {
   "cell_type": "code",
   "execution_count": null,
   "id": "6d7392f8",
   "metadata": {},
   "outputs": [],
   "source": [
    "# <: is the subtyping operator\n",
    "struct Lion <: Cat # Lion is a subtype of Cat\n",
    "    mane_color\n",
    "    roar::String\n",
    "end\n",
    "\n",
    "struct Panther <: Cat # Panther is also a subtype of Cat\n",
    "  eye_color\n",
    "  Panther() = new(\"green\")\n",
    "  # Panthers will only have this constructor, and no default constructor.\n",
    "end\n",
    "\n",
    "# Also it is not required to inheritance anything\n",
    "struct Tiger\n",
    "  taillength::Float64\n",
    "  coatcolor # not including a type annotation is the same as `::Any`\n",
    "end\n",
    "\n",
    "subtypes(Cat)"
   ]
  },
  {
   "cell_type": "code",
   "execution_count": null,
   "id": "cdba4397",
   "metadata": {},
   "outputs": [],
   "source": [
    "function voice(animal::Lion)\n",
    "  animal.roar # access type properties using dot notation\n",
    "end\n",
    "\n",
    "function voice(animal::Panther)\n",
    "  \"grrr\"\n",
    "end\n",
    "\n",
    "function voice(animal::Tiger)\n",
    "  \"rawwwr\"\n",
    "end"
   ]
  },
  {
   "cell_type": "code",
   "execution_count": null,
   "id": "0c6d5461",
   "metadata": {},
   "outputs": [],
   "source": [
    "println(\"The Tiger says $(voice(Tiger(3.5,\"orange\")))\")\n",
    "println(\"The Lion says $(voice(Lion(\"brown\",\"ROAAAR\")))\")\n",
    "println(\"The Lion says $(voice(Panther()))\")"
   ]
  },
  {
   "cell_type": "markdown",
   "id": "56aa2e90",
   "metadata": {},
   "source": [
    "### Native Code"
   ]
  },
  {
   "cell_type": "code",
   "execution_count": 1,
   "id": "91dbab59",
   "metadata": {},
   "outputs": [
    {
     "data": {
      "text/plain": [
       "Add (generic function with 1 method)"
      ]
     },
     "execution_count": 1,
     "metadata": {},
     "output_type": "execute_result"
    }
   ],
   "source": [
    "Add(x, y) = x + y"
   ]
  },
  {
   "cell_type": "code",
   "execution_count": 2,
   "id": "ee470fd9",
   "metadata": {},
   "outputs": [
    {
     "data": {
      "text/plain": [
       "9"
      ]
     },
     "execution_count": 2,
     "metadata": {},
     "output_type": "execute_result"
    }
   ],
   "source": [
    "Add(4,5)"
   ]
  },
  {
   "cell_type": "code",
   "execution_count": 3,
   "id": "eb1a7277",
   "metadata": {},
   "outputs": [
    {
     "name": "stdout",
     "output_type": "stream",
     "text": [
      "\t\u001b[0m.text\n",
      "\t\u001b[0m.file\t\u001b[0m\"Add\"\n",
      "\t\u001b[0m.globl\t\u001b[0mjulia_Add_801                   \u001b[90m# -- Begin function julia_Add_801\u001b[39m\n",
      "\t\u001b[0m.p2align\t\u001b[33m4\u001b[39m\u001b[0m, \u001b[33m0x90\u001b[39m\n",
      "\t\u001b[0m.type\t\u001b[0mjulia_Add_801\u001b[0m,\u001b[0m@function\n",
      "\u001b[91mjulia_Add_801:\u001b[39m                          \u001b[90m# @julia_Add_801\u001b[39m\n",
      "\u001b[90m; ┌ @ In[1]:1 within `Add`\u001b[39m\n",
      "\u001b[90m# %bb.0:                                # %top\u001b[39m\n",
      "\t\u001b[96m\u001b[1mpush\u001b[22m\u001b[39m\t\u001b[0mrbp\n",
      "\t\u001b[96m\u001b[1mmov\u001b[22m\u001b[39m\t\u001b[0mrbp\u001b[0m, \u001b[0mrsp\n",
      "                                        \u001b[90m# kill: def $esi killed $esi def $rsi\u001b[39m\n",
      "                                        \u001b[90m# kill: def $edi killed $edi def $rdi\u001b[39m\n",
      "\u001b[90m; │┌ @ int.jl:87 within `+`\u001b[39m\n",
      "\t\u001b[96m\u001b[1mlea\u001b[22m\u001b[39m\t\u001b[0meax\u001b[0m, \u001b[33m[\u001b[39m\u001b[0mrdi \u001b[0m+ \u001b[0mrsi\u001b[33m]\u001b[39m\n",
      "\u001b[90m; │└\u001b[39m\n",
      "\t\u001b[96m\u001b[1mpop\u001b[22m\u001b[39m\t\u001b[0mrbp\n",
      "\t\u001b[96m\u001b[1mret\u001b[22m\u001b[39m\n",
      "\u001b[91m.Lfunc_end0:\u001b[39m\n",
      "\t\u001b[0m.size\t\u001b[0mjulia_Add_801\u001b[0m, \u001b[0m.Lfunc_end0-julia_Add_801\n",
      "\u001b[90m; └\u001b[39m\n",
      "                                        \u001b[90m# -- End function\u001b[39m\n",
      "\t\u001b[0m.section\t\u001b[0m\".note.GNU-stack\"\u001b[0m,\u001b[0m\"\"\u001b[0m,\u001b[0m@progbits\n"
     ]
    }
   ],
   "source": [
    "code_native(Add, (Int32,Int32), syntax = :intel)"
   ]
  },
  {
   "cell_type": "code",
   "execution_count": 4,
   "id": "2a9a527d",
   "metadata": {},
   "outputs": [
    {
     "name": "stdout",
     "output_type": "stream",
     "text": [
      "\t\u001b[0m.text\n",
      "\t\u001b[0m.file\t\u001b[0m\"Add\"\n",
      "\t\u001b[0m.globl\t\u001b[0mjulia_Add_826                   \u001b[90m# -- Begin function julia_Add_826\u001b[39m\n",
      "\t\u001b[0m.p2align\t\u001b[33m4\u001b[39m\u001b[0m, \u001b[33m0x90\u001b[39m\n",
      "\t\u001b[0m.type\t\u001b[0mjulia_Add_826\u001b[0m,\u001b[0m@function\n",
      "\u001b[91mjulia_Add_826:\u001b[39m                          \u001b[90m# @julia_Add_826\u001b[39m\n",
      "\u001b[90m; ┌ @ In[1]:1 within `Add`\u001b[39m\n",
      "\u001b[90m# %bb.0:                                # %top\u001b[39m\n",
      "\t\u001b[96m\u001b[1mpush\u001b[22m\u001b[39m\t\u001b[0mrbp\n",
      "\t\u001b[96m\u001b[1mmov\u001b[22m\u001b[39m\t\u001b[0mrbp\u001b[0m, \u001b[0mrsp\n",
      "\u001b[90m; │┌ @ float.jl:409 within `+`\u001b[39m\n",
      "\t\u001b[96m\u001b[1mvaddss\u001b[22m\u001b[39m\t\u001b[0mxmm0\u001b[0m, \u001b[0mxmm0\u001b[0m, \u001b[0mxmm1\n",
      "\u001b[90m; │└\u001b[39m\n",
      "\t\u001b[96m\u001b[1mpop\u001b[22m\u001b[39m\t\u001b[0mrbp\n",
      "\t\u001b[96m\u001b[1mret\u001b[22m\u001b[39m\n",
      "\u001b[91m.Lfunc_end0:\u001b[39m\n",
      "\t\u001b[0m.size\t\u001b[0mjulia_Add_826\u001b[0m, \u001b[0m.Lfunc_end0-julia_Add_826\n",
      "\u001b[90m; └\u001b[39m\n",
      "                                        \u001b[90m# -- End function\u001b[39m\n",
      "\t\u001b[0m.section\t\u001b[0m\".note.GNU-stack\"\u001b[0m,\u001b[0m\"\"\u001b[0m,\u001b[0m@progbits\n"
     ]
    }
   ],
   "source": [
    "code_native(Add, (Float32,Float32), syntax = :intel)"
   ]
  },
  {
   "cell_type": "code",
   "execution_count": 5,
   "id": "db517a1e",
   "metadata": {},
   "outputs": [
    {
     "name": "stdout",
     "output_type": "stream",
     "text": [
      "\u001b[90m;  @ In[1]:1 within `Add`\u001b[39m\n",
      "\u001b[95mdefine\u001b[39m \u001b[36mi32\u001b[39m \u001b[93m@julia_Add_858\u001b[39m\u001b[33m(\u001b[39m\u001b[36mi32\u001b[39m \u001b[95msignext\u001b[39m \u001b[0m%0\u001b[0m, \u001b[36mi32\u001b[39m \u001b[95msignext\u001b[39m \u001b[0m%1\u001b[33m)\u001b[39m \u001b[0m#0 \u001b[33m{\u001b[39m\n",
      "\u001b[91mtop:\u001b[39m\n",
      "\u001b[90m; ┌ @ int.jl:87 within `+`\u001b[39m\n",
      "   \u001b[0m%2 \u001b[0m= \u001b[96m\u001b[1madd\u001b[22m\u001b[39m \u001b[36mi32\u001b[39m \u001b[0m%1\u001b[0m, \u001b[0m%0\n",
      "\u001b[90m; └\u001b[39m\n",
      "  \u001b[96m\u001b[1mret\u001b[22m\u001b[39m \u001b[36mi32\u001b[39m \u001b[0m%2\n",
      "\u001b[33m}\u001b[39m\n"
     ]
    }
   ],
   "source": [
    "code_llvm(Add, (Int32,Int32))"
   ]
  },
  {
   "cell_type": "markdown",
   "id": "17598349-dc3a-4814-90a7-1a8a0bc06480",
   "metadata": {},
   "source": [
    "## Julia Environments\n",
    "\n",
    "### What is a Julia environment (a.k.a. project)?\n",
    "\n",
    "In Julia, an **environment** (also commonly called a **project**) is a workspace that defines its own set of packages and versions.  \n",
    "This ensures that your code runs with the exact dependencies you specify — independently of what is installed globally or in other projects.\n",
    "\n",
    "If you're familiar with **Python**, this is very similar to using `venv`, `conda`, or `poetry`.  \n",
    "In **R**, it's similar to using `renv` or `packrat`.\n",
    "\n",
    "Environments in Julia are defined by two key files:\n",
    "\n",
    "- `Project.toml`: lists your direct dependencies.\n",
    "- `Manifest.toml`: records the exact versions of all packages (including transitive dependencies).\n",
    "\n",
    "> 📁 Any folder with a `Project.toml` is considered a **Julia project**.\n",
    "\n",
    "```\n",
    " my_project/\n",
    " ├── Project.toml\n",
    " ├── Manifest.toml\n",
    " └── notebook.ipynb\n",
    "```\n",
    "\n",
    "---\n",
    "\n",
    "### 🔄 Comparison with other ecosystems\n",
    "\n",
    "| Feature                  | **Julia**                          | **Python**                          | **R**                          |\n",
    "|--------------------------|------------------------------------|-------------------------------------|--------------------------------|\n",
    "| Environment name         | Environment / Project              | Virtual environment (`venv`, `conda`) | Project / renv environment    |\n",
    "| Dependency list file     | `Project.toml`                     | `requirements.txt` / `pyproject.toml` | `renv.lock` / `DESCRIPTION`   |\n",
    "| Full version lock file   | `Manifest.toml`                    | `poetry.lock` / `Pipfile.lock`      | `renv.lock` / `.Rprofile`     |\n",
    "| Activation               | `Pkg.activate(\"path\")`             | `source venv/bin/activate` or `conda activate` | `renv::activate()`         |\n",
    "| Install package          | `Pkg.add(\"PkgName\")`               | `pip install PkgName`               | `install.packages(\"PkgName\")` |\n",
    "| Isolation                | ✔ Per project                      | ✔ Per virtualenv/conda              | ✔ Per project                 |\n",
    "\n",
    "---\n",
    "\n",
    "Using environments is essential for:\n",
    "\n",
    "- Keeping dependencies organized and isolated\n",
    "- Reproducing your results\n",
    "- Collaborating safely across different machines or teammates\n",
    "\n",
    "In the next sections, you'll learn how to create and activate a Julia environment for your notebooks."
   ]
  },
  {
   "cell_type": "markdown",
   "id": "baa5389c-95b1-4b42-bcc0-8afd7962519b",
   "metadata": {},
   "source": [
    "### Why use environments in Julia?\n",
    "\n",
    "In Julia, managing dependencies properly is essential to avoid version conflicts and ensure reproducibility.\n",
    "\n",
    "By default, when you install a package, it is added to your **global environment**, which is shared across all projects.  \n",
    "This can lead to incompatibilities when different projects require different versions of the same package.\n",
    "\n",
    "The recommended solution is to use ***project-specific environments***, which isolate dependencies per notebook or application.\n",
    "\n",
    "### Creating a new project\n",
    "\n",
    "You can create a new environment by opening Julia and running the following in the REPL:\n",
    "\n",
    "```julia\n",
    "] activate .\n",
    "] instantiate\n",
    "```\n",
    "* `activate .` tells Julia to create or activate a project in the current folder.\n",
    "\n",
    "* If a `Project.toml` does not exist, it will be created automatically.\n",
    "\n",
    "* `instantiate` installs the packages listed in Project.toml and Manifest.toml.\n",
    "\n",
    "📝 It’s a good practice to run your notebooks inside such a folder and activate the environment at the top of the notebook.\n",
    "\n",
    "### Activating environments in Jupyter notebooks\n",
    "\n",
    "At the top of your notebook, add the following code:"
   ]
  },
  {
   "cell_type": "code",
   "execution_count": null,
   "id": "1bf35024-02ab-4ff5-83c5-677379c466a2",
   "metadata": {},
   "outputs": [],
   "source": [
    "using Pkg\n",
    "Pkg.activate(\".\")"
   ]
  },
  {
   "cell_type": "markdown",
   "id": "d16bb2fd-7d42-413c-864b-0d96912c789d",
   "metadata": {},
   "source": [
    "You only need to activate the environment once per session. After that, any `Pkg.add(...)` call will install packages into this environment only.\n",
    "\n",
    "### Adding and removing packages\n",
    "\n",
    "To add a package:"
   ]
  },
  {
   "cell_type": "code",
   "execution_count": null,
   "id": "dcf5fa62-cab9-4c6a-bd0a-5945ef81912d",
   "metadata": {},
   "outputs": [],
   "source": [
    "using Pkg\n",
    "Pkg.add(\"Plots\")"
   ]
  },
  {
   "cell_type": "markdown",
   "id": "10c44a7a-7b00-4e97-b2cb-254866f5713a",
   "metadata": {},
   "source": [
    "To remove a package:"
   ]
  },
  {
   "cell_type": "code",
   "execution_count": null,
   "id": "98a64a83-15e7-4a4c-b960-c045094f1ac5",
   "metadata": {},
   "outputs": [],
   "source": [
    "Pkg.rm(\"Plots\")"
   ]
  },
  {
   "cell_type": "markdown",
   "id": "716295c8-be0f-4ea4-8c78-0668dc936c65",
   "metadata": {},
   "source": [
    "To see all packages:"
   ]
  },
  {
   "cell_type": "code",
   "execution_count": null,
   "id": "a739d081-577f-45f9-abbc-cb60e57d2489",
   "metadata": {},
   "outputs": [],
   "source": [
    "Pkg.status()"
   ]
  },
  {
   "cell_type": "markdown",
   "id": "3b4b9b08-e490-42be-8a66-58d923a93758",
   "metadata": {},
   "source": [
    "### Project.toml and Manifest.toml\n",
    "\n",
    "- `Project.toml` defines which packages and versions your project depends on.\n",
    "- `Manifest.toml` locks the exact versions, including dependencies of dependencies.\n",
    "\n",
    "To ensure your environment files are up to date, run the following commands.\n",
    "\n",
    "```julia\n",
    "    Pkg.resolve()\n",
    "    Pkg.precompile()\n",
    "```\n",
    "\n",
    "These files should be committed to your Git repository — especially `Project.toml` — to ensure reproducibility for others.\n",
    "\n",
    "### Tips\n",
    "\n",
    "- Create a separate environment for each project.\n",
    "- Always run `Pkg.activate(\".\")` at the top of your notebook.\n",
    "- Run `Pkg.instantiate()` after cloning a project to install all required dependencies listed in `Project.toml` and `Manifest.toml`."
   ]
  },
  {
   "cell_type": "markdown",
   "id": "f7b6e596-0d10-4549-a273-d63060a4148a",
   "metadata": {},
   "source": [
    "## Comandline Integration\n",
    "To run a Julia script using a specific project environment, use:\n",
    "```bash\n",
    "julia --project=. script.jl\n",
    "```\n",
    "\n",
    "This will use the Project.toml in the current folder."
   ]
  },
  {
   "cell_type": "markdown",
   "id": "f30192ae-b2d8-4113-a63d-c01bf995cdfc",
   "metadata": {},
   "source": [
    "## Jupyter Integration\n",
    "To use your current Julia environment in Jupyter notebooks, you can generate a new Jupyter kernel associated with that environment. Run the following:\n",
    "```julia\n",
    "    using IJulia\n",
    "    IJulia.installkernel(\"Julia (ML Environment)\", env=Base.current_project(\"relative route to the environment\"))\n",
    "```\n",
    "\n",
    "Once installed, you’ll see a new kernel named 'Julia (ML Environment)' in Jupyter. Selecting it will automatically use the specified environment — no manual activation needed."
   ]
  },
  {
   "cell_type": "markdown",
   "id": "66d2c9cb-ef3f-476c-a93a-2a92ffacf0c3",
   "metadata": {},
   "source": [
    "## Suggested Project Structure for Practical Work\n",
    "\n",
    "To ensure clarity, maintainability, and reproducibility, it is strongly recommended to organise your course projects using a structured folder layout. Here is a suggested directory structure:\n",
    "```\n",
    "/ML1/\n",
    "│\n",
    "├── environment/ ← Contains the Julia environment files\n",
    "│ ├── Project.toml\n",
    "│ └── Manifest.toml\n",
    "│\n",
    "├── notebooks/ ← Jupyter notebooks for development and experimentation\n",
    "│ ├── 00_environment_setup.ipynb\n",
    "│ └── ... (other notebooks)\n",
    "│\n",
    "└── scripts/ ← Julia scripts for reusable or production code\n",
    "  └── train_model.jl\n",
    "```\n",
    "\n",
    "\n",
    "### Why use this structure?\n",
    "\n",
    "- **Isolation**: All dependencies are managed inside `environment/` to avoid conflicts and ensure reproducibility.\n",
    "- **Separation of concerns**: Notebooks are used for interactive exploration and documentation; scripts are for finalised or automated code.\n",
    "- **Portability**: You (and others) can easily clone the repository, activate the environment, and reproduce your results.\n",
    "- **Scalability**: This layout scales well as your project grows.\n",
    "\n",
    "### Tips\n",
    "\n",
    "- Always start your notebooks with (form the notebook folder):\n",
    "  \n",
    "  ```julia\n",
    "      using Pkg\n",
    "      Pkg.activate(\"../environment\")\n",
    "  ```\n",
    "- When running scripts from the command line, use (from the script folder):\n",
    "  ```bash\n",
    "      julia --project=environment/ scripts/train_model.jl\n",
    "  ```\n",
    "\n",
    "- Alternatively, to use the environment directly in Jupyter, you can generate a dedicated kernel (from the notebook folder):\n",
    "  ```julia\n",
    "      using IJulia\n",
    "      IJulia.installkernel(\"Julia (ML Environment)\", env=Base.current_project(\"../environment\"))\n",
    "  ```"
   ]
  },
  {
   "cell_type": "code",
   "execution_count": null,
   "id": "21fbbe87-5cc3-4566-bc8c-2c1ed8ad0ed1",
   "metadata": {},
   "outputs": [],
   "source": []
  }
 ],
 "metadata": {
  "kernelspec": {
   "display_name": "Julia 1.9.3",
   "language": "julia",
   "name": "julia-1.9"
  },
  "language_info": {
   "file_extension": ".jl",
   "mimetype": "application/julia",
   "name": "julia",
   "version": "1.9.3"
  }
 },
 "nbformat": 4,
 "nbformat_minor": 5
}
